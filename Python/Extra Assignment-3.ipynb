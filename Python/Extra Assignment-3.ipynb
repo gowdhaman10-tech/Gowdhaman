{
 "cells": [
  {
   "cell_type": "code",
   "execution_count": 2,
   "id": "63fbc376",
   "metadata": {},
   "outputs": [
    {
     "name": "stdout",
     "output_type": "stream",
     "text": [
      "Value:  10\n",
      "correct\n"
     ]
    }
   ],
   "source": [
    "num = int(input(\"Value: \"))\n",
    "print(\"Value: \",num)\n",
    "if num == 10:\n",
    "    print(\"correct\")\n",
    "else:\n",
    "    print(\"wrong\")"
   ]
  },
  {
   "cell_type": "code",
   "execution_count": 3,
   "id": "fc68b001",
   "metadata": {},
   "outputs": [
    {
     "name": "stdout",
     "output_type": "stream",
     "text": [
      "Enter the password:  Hope@123\n",
      "your password is correct\n"
     ]
    }
   ],
   "source": [
    "password = input(\"Enter the password: \")\n",
    "print(\"Enter the password: \", password)\n",
    "if(password == \"Hope@123\"):\n",
    "    print(\"your password is correct\")\n",
    "else:\n",
    "    print(\"Your password is wrong\")"
   ]
  },
  {
   "cell_type": "code",
   "execution_count": 7,
   "id": "6c94d722",
   "metadata": {},
   "outputs": [
    {
     "name": "stdout",
     "output_type": "stream",
     "text": [
      "age is:  30\n",
      "Adult\n"
     ]
    }
   ],
   "source": [
    "age=int(input(\"age is: \"))\n",
    "print(\"age is: \",age)\n",
    "if(age<18):\n",
    "    print(\"children\")\n",
    "elif(age<40):\n",
    "    print(\"Adult\")\n",
    "elif(age<60):\n",
    "    print(\"Citizen\")\n",
    "else:\n",
    "    print(\"Senior Citizen\")"
   ]
  },
  {
   "cell_type": "code",
   "execution_count": 10,
   "id": "4c7fa203",
   "metadata": {},
   "outputs": [
    {
     "name": "stdout",
     "output_type": "stream",
     "text": [
      "Enter the num:  40\n",
      "No is positive\n"
     ]
    }
   ],
   "source": [
    "num = int(input(\"Enter the num: \"))\n",
    "print(\"Enter the num: \",num)\n",
    "if(num>0):\n",
    "    print(\"No is positive\")\n",
    "else:\n",
    "    print(\"No is negative\")"
   ]
  },
  {
   "cell_type": "code",
   "execution_count": 11,
   "id": "42b564dd",
   "metadata": {},
   "outputs": [
    {
     "name": "stdout",
     "output_type": "stream",
     "text": [
      "ENter a number to check:  22\n",
      "No is not divisible by 5\n"
     ]
    }
   ],
   "source": [
    "num = int(input(\"Enter Number to check: \"))\n",
    "print(\"ENter a number to check: \",num)\n",
    "if(num/5==0):\n",
    "    print(\"No is divisible by 5\")\n",
    "else:\n",
    "    print(\"No is not divisible by 5\")"
   ]
  }
 ],
 "metadata": {
  "kernelspec": {
   "display_name": "Python 3",
   "language": "python",
   "name": "python3"
  },
  "language_info": {
   "codemirror_mode": {
    "name": "ipython",
    "version": 3
   },
   "file_extension": ".py",
   "mimetype": "text/x-python",
   "name": "python",
   "nbconvert_exporter": "python",
   "pygments_lexer": "ipython3",
   "version": "3.12.10"
  }
 },
 "nbformat": 4,
 "nbformat_minor": 5
}
